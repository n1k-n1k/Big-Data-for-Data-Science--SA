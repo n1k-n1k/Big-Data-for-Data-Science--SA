{
 "cells": [
  {
   "cell_type": "markdown",
   "metadata": {},
   "source": [
    "## PySpakr TitanicJob"
   ]
  },
  {
   "cell_type": "code",
   "execution_count": 1,
   "metadata": {},
   "outputs": [],
   "source": [
    "from pyspark.sql import SparkSession\n",
    "from pyspark.sql.functions import split, col, avg"
   ]
  },
  {
   "cell_type": "code",
   "execution_count": 2,
   "metadata": {},
   "outputs": [],
   "source": [
    "spark = SparkSession.builder.appName('PySparkTitanicJob').getOrCreate()"
   ]
  },
  {
   "cell_type": "code",
   "execution_count": 3,
   "metadata": {},
   "outputs": [
    {
     "data": {
      "text/html": [
       "\n",
       "            <div>\n",
       "                <p><b>SparkSession - in-memory</b></p>\n",
       "                \n",
       "        <div>\n",
       "            <p><b>SparkContext</b></p>\n",
       "\n",
       "            <p><a href=\"http://Tech:4041\">Spark UI</a></p>\n",
       "\n",
       "            <dl>\n",
       "              <dt>Version</dt>\n",
       "                <dd><code>v2.4.4</code></dd>\n",
       "              <dt>Master</dt>\n",
       "                <dd><code>local[*]</code></dd>\n",
       "              <dt>AppName</dt>\n",
       "                <dd><code>PySparkTitanicJob</code></dd>\n",
       "            </dl>\n",
       "        </div>\n",
       "        \n",
       "            </div>\n",
       "        "
      ],
      "text/plain": [
       "<pyspark.sql.session.SparkSession at 0x1bb002e6470>"
      ]
     },
     "execution_count": 3,
     "metadata": {},
     "output_type": "execute_result"
    }
   ],
   "source": [
    "spark"
   ]
  },
  {
   "cell_type": "code",
   "execution_count": 4,
   "metadata": {},
   "outputs": [],
   "source": [
    "df = spark.read.option('header', 'true').csv('_data/train.csv')"
   ]
  },
  {
   "cell_type": "code",
   "execution_count": 5,
   "metadata": {},
   "outputs": [
    {
     "data": {
      "text/plain": [
       "[('PassengerId', 'string'),\n",
       " ('Survived', 'string'),\n",
       " ('Pclass', 'string'),\n",
       " ('Name', 'string'),\n",
       " ('Sex', 'string'),\n",
       " ('Age', 'string'),\n",
       " ('SibSp', 'string'),\n",
       " ('Parch', 'string'),\n",
       " ('Ticket', 'string'),\n",
       " ('Fare', 'string'),\n",
       " ('Cabin', 'string'),\n",
       " ('Embarked', 'string')]"
      ]
     },
     "execution_count": 5,
     "metadata": {},
     "output_type": "execute_result"
    }
   ],
   "source": [
    "df.dtypes"
   ]
  },
  {
   "cell_type": "code",
   "execution_count": 6,
   "metadata": {},
   "outputs": [
    {
     "data": {
      "text/plain": [
       "891"
      ]
     },
     "execution_count": 6,
     "metadata": {},
     "output_type": "execute_result"
    }
   ],
   "source": [
    "df.count()"
   ]
  },
  {
   "cell_type": "code",
   "execution_count": 7,
   "metadata": {},
   "outputs": [
    {
     "name": "stdout",
     "output_type": "stream",
     "text": [
      "+-------+------+------------------+\n",
      "|summary|   Sex|               Age|\n",
      "+-------+------+------------------+\n",
      "|  count|   891|               714|\n",
      "|   mean|  null| 29.69911764705882|\n",
      "| stddev|  null|14.526497332334035|\n",
      "|    min|female|              0.42|\n",
      "|    max|  male|                 9|\n",
      "+-------+------+------------------+\n",
      "\n"
     ]
    }
   ],
   "source": [
    "df.describe(['Sex', 'Age']).show()"
   ]
  },
  {
   "cell_type": "code",
   "execution_count": 8,
   "metadata": {},
   "outputs": [],
   "source": [
    "df = df.drop('Ticket', 'Name', 'Fare', 'Cabin')"
   ]
  },
  {
   "cell_type": "code",
   "execution_count": 9,
   "metadata": {},
   "outputs": [
    {
     "name": "stdout",
     "output_type": "stream",
     "text": [
      "+-----------+--------+------+------+----+-----+-----+--------+\n",
      "|PassengerId|Survived|Pclass|   Sex| Age|SibSp|Parch|Embarked|\n",
      "+-----------+--------+------+------+----+-----+-----+--------+\n",
      "|          1|       0|     3|  male|  22|    1|    0|       S|\n",
      "|          2|       1|     1|female|  38|    1|    0|       C|\n",
      "|          3|       1|     3|female|  26|    0|    0|       S|\n",
      "|          4|       1|     1|female|  35|    1|    0|       S|\n",
      "|          5|       0|     3|  male|  35|    0|    0|       S|\n",
      "|          6|       0|     3|  male|null|    0|    0|       Q|\n",
      "|          7|       0|     1|  male|  54|    0|    0|       S|\n",
      "|          8|       0|     3|  male|   2|    3|    1|       S|\n",
      "|          9|       1|     3|female|  27|    0|    2|       S|\n",
      "|         10|       1|     2|female|  14|    1|    0|       C|\n",
      "|         11|       1|     3|female|   4|    1|    1|       S|\n",
      "|         12|       1|     1|female|  58|    0|    0|       S|\n",
      "|         13|       0|     3|  male|  20|    0|    0|       S|\n",
      "|         14|       0|     3|  male|  39|    1|    5|       S|\n",
      "|         15|       0|     3|female|  14|    0|    0|       S|\n",
      "|         16|       1|     2|female|  55|    0|    0|       S|\n",
      "|         17|       0|     3|  male|   2|    4|    1|       Q|\n",
      "|         18|       1|     2|  male|null|    0|    0|       S|\n",
      "|         19|       0|     3|female|  31|    1|    0|       S|\n",
      "|         20|       1|     3|female|null|    0|    0|       C|\n",
      "+-----------+--------+------+------+----+-----+-----+--------+\n",
      "only showing top 20 rows\n",
      "\n"
     ]
    }
   ],
   "source": [
    "df.show()"
   ]
  },
  {
   "cell_type": "code",
   "execution_count": 10,
   "metadata": {},
   "outputs": [],
   "source": [
    "df = df.withColumn('FamilySize', col('SibSp') + col('Parch') + 1)"
   ]
  },
  {
   "cell_type": "code",
   "execution_count": 11,
   "metadata": {},
   "outputs": [
    {
     "name": "stdout",
     "output_type": "stream",
     "text": [
      "+-----------+--------+------+------+----+-----+-----+--------+----------+\n",
      "|PassengerId|Survived|Pclass|   Sex| Age|SibSp|Parch|Embarked|FamilySize|\n",
      "+-----------+--------+------+------+----+-----+-----+--------+----------+\n",
      "|          1|       0|     3|  male|  22|    1|    0|       S|       2.0|\n",
      "|          2|       1|     1|female|  38|    1|    0|       C|       2.0|\n",
      "|          3|       1|     3|female|  26|    0|    0|       S|       1.0|\n",
      "|          4|       1|     1|female|  35|    1|    0|       S|       2.0|\n",
      "|          5|       0|     3|  male|  35|    0|    0|       S|       1.0|\n",
      "|          6|       0|     3|  male|null|    0|    0|       Q|       1.0|\n",
      "|          7|       0|     1|  male|  54|    0|    0|       S|       1.0|\n",
      "|          8|       0|     3|  male|   2|    3|    1|       S|       5.0|\n",
      "|          9|       1|     3|female|  27|    0|    2|       S|       3.0|\n",
      "|         10|       1|     2|female|  14|    1|    0|       C|       2.0|\n",
      "|         11|       1|     3|female|   4|    1|    1|       S|       3.0|\n",
      "|         12|       1|     1|female|  58|    0|    0|       S|       1.0|\n",
      "|         13|       0|     3|  male|  20|    0|    0|       S|       1.0|\n",
      "|         14|       0|     3|  male|  39|    1|    5|       S|       7.0|\n",
      "|         15|       0|     3|female|  14|    0|    0|       S|       1.0|\n",
      "|         16|       1|     2|female|  55|    0|    0|       S|       1.0|\n",
      "|         17|       0|     3|  male|   2|    4|    1|       Q|       6.0|\n",
      "|         18|       1|     2|  male|null|    0|    0|       S|       1.0|\n",
      "|         19|       0|     3|female|  31|    1|    0|       S|       2.0|\n",
      "|         20|       1|     3|female|null|    0|    0|       C|       1.0|\n",
      "+-----------+--------+------+------+----+-----+-----+--------+----------+\n",
      "only showing top 20 rows\n",
      "\n"
     ]
    }
   ],
   "source": [
    "df.show()"
   ]
  },
  {
   "cell_type": "code",
   "execution_count": 12,
   "metadata": {},
   "outputs": [
    {
     "data": {
      "text/plain": [
       "177"
      ]
     },
     "execution_count": 12,
     "metadata": {},
     "output_type": "execute_result"
    }
   ],
   "source": [
    "df.where(col('Age').isNull()).count()"
   ]
  },
  {
   "cell_type": "code",
   "execution_count": 13,
   "metadata": {},
   "outputs": [
    {
     "data": {
      "text/plain": [
       "[Row(avg(Age)=29.69911764705882)]"
      ]
     },
     "execution_count": 13,
     "metadata": {},
     "output_type": "execute_result"
    }
   ],
   "source": [
    "df.select(avg(col('Age'))).collect()"
   ]
  },
  {
   "cell_type": "code",
   "execution_count": 14,
   "metadata": {},
   "outputs": [
    {
     "data": {
      "text/plain": [
       "29.69911764705882"
      ]
     },
     "execution_count": 14,
     "metadata": {},
     "output_type": "execute_result"
    }
   ],
   "source": [
    "avg_age = df.select(avg(col('Age'))).collect()[0][0]\n",
    "avg_age"
   ]
  },
  {
   "cell_type": "code",
   "execution_count": 15,
   "metadata": {},
   "outputs": [],
   "source": [
    "ndf = df.fillna({'Age': avg_age})"
   ]
  },
  {
   "cell_type": "code",
   "execution_count": 16,
   "metadata": {},
   "outputs": [
    {
     "name": "stdout",
     "output_type": "stream",
     "text": [
      "+-----------+--------+------+------+---+-----+-----+--------+----------+\n",
      "|PassengerId|Survived|Pclass|   Sex|Age|SibSp|Parch|Embarked|FamilySize|\n",
      "+-----------+--------+------+------+---+-----+-----+--------+----------+\n",
      "|          1|       0|     3|  male| 22|    1|    0|       S|       2.0|\n",
      "|          2|       1|     1|female| 38|    1|    0|       C|       2.0|\n",
      "|          3|       1|     3|female| 26|    0|    0|       S|       1.0|\n",
      "|          4|       1|     1|female| 35|    1|    0|       S|       2.0|\n",
      "|          5|       0|     3|  male| 35|    0|    0|       S|       1.0|\n",
      "+-----------+--------+------+------+---+-----+-----+--------+----------+\n",
      "only showing top 5 rows\n",
      "\n"
     ]
    }
   ],
   "source": [
    "ndf.show(5)"
   ]
  },
  {
   "cell_type": "code",
   "execution_count": 17,
   "metadata": {},
   "outputs": [
    {
     "name": "stdout",
     "output_type": "stream",
     "text": [
      "+------+\n",
      "|   Sex|\n",
      "+------+\n",
      "|female|\n",
      "|  male|\n",
      "+------+\n",
      "\n"
     ]
    }
   ],
   "source": [
    "ndf[['Sex']].distinct().show()"
   ]
  },
  {
   "cell_type": "code",
   "execution_count": 18,
   "metadata": {},
   "outputs": [],
   "source": [
    "ndf = ndf.withColumn('Male', col('Sex') == 'male')\n",
    "ndf = ndf.withColumn('Female', col('Sex') == 'female')"
   ]
  },
  {
   "cell_type": "code",
   "execution_count": 19,
   "metadata": {},
   "outputs": [
    {
     "name": "stdout",
     "output_type": "stream",
     "text": [
      "+-----------+--------+------+------+---+-----+-----+--------+----------+-----+------+\n",
      "|PassengerId|Survived|Pclass|   Sex|Age|SibSp|Parch|Embarked|FamilySize| Male|Female|\n",
      "+-----------+--------+------+------+---+-----+-----+--------+----------+-----+------+\n",
      "|          1|       0|     3|  male| 22|    1|    0|       S|       2.0| true| false|\n",
      "|          2|       1|     1|female| 38|    1|    0|       C|       2.0|false|  true|\n",
      "|          3|       1|     3|female| 26|    0|    0|       S|       1.0|false|  true|\n",
      "|          4|       1|     1|female| 35|    1|    0|       S|       2.0|false|  true|\n",
      "|          5|       0|     3|  male| 35|    0|    0|       S|       1.0| true| false|\n",
      "+-----------+--------+------+------+---+-----+-----+--------+----------+-----+------+\n",
      "only showing top 5 rows\n",
      "\n"
     ]
    }
   ],
   "source": [
    "ndf.show(5)"
   ]
  },
  {
   "cell_type": "code",
   "execution_count": 20,
   "metadata": {},
   "outputs": [
    {
     "data": {
      "text/plain": [
       "DataFrame[PassengerId: string, Survived: string, Pclass: string, Age: string, SibSp: string, Parch: string, Embarked: string, FamilySize: double, Male: boolean, Female: boolean]"
      ]
     },
     "execution_count": 20,
     "metadata": {},
     "output_type": "execute_result"
    }
   ],
   "source": [
    "ndf.drop('Sex')"
   ]
  },
  {
   "cell_type": "code",
   "execution_count": 21,
   "metadata": {},
   "outputs": [
    {
     "name": "stdout",
     "output_type": "stream",
     "text": [
      "+-----------+--------+------+------+---+-----+-----+--------+----------+-----+------+\n",
      "|PassengerId|Survived|Pclass|   Sex|Age|SibSp|Parch|Embarked|FamilySize| Male|Female|\n",
      "+-----------+--------+------+------+---+-----+-----+--------+----------+-----+------+\n",
      "|          1|       0|     3|  male| 22|    1|    0|       S|       2.0| true| false|\n",
      "|          2|       1|     1|female| 38|    1|    0|       C|       2.0|false|  true|\n",
      "|          3|       1|     3|female| 26|    0|    0|       S|       1.0|false|  true|\n",
      "|          4|       1|     1|female| 35|    1|    0|       S|       2.0|false|  true|\n",
      "|          5|       0|     3|  male| 35|    0|    0|       S|       1.0| true| false|\n",
      "+-----------+--------+------+------+---+-----+-----+--------+----------+-----+------+\n",
      "only showing top 5 rows\n",
      "\n"
     ]
    }
   ],
   "source": [
    "ndf.show(5)"
   ]
  },
  {
   "cell_type": "code",
   "execution_count": 22,
   "metadata": {},
   "outputs": [],
   "source": [
    "ndf.coalesce(1).write.option('header', 'true').csv('_export_data_2/clean_data')"
   ]
  }
 ],
 "metadata": {
  "kernelspec": {
   "display_name": "Python 3",
   "language": "python",
   "name": "python3"
  },
  "language_info": {
   "codemirror_mode": {
    "name": "ipython",
    "version": 3
   },
   "file_extension": ".py",
   "mimetype": "text/x-python",
   "name": "python",
   "nbconvert_exporter": "python",
   "pygments_lexer": "ipython3",
   "version": "3.7.3"
  }
 },
 "nbformat": 4,
 "nbformat_minor": 2
}
