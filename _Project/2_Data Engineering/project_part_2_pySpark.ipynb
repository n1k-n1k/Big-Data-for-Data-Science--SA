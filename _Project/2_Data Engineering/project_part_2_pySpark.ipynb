{
 "cells": [
  {
   "cell_type": "code",
   "execution_count": 2,
   "metadata": {},
   "outputs": [],
   "source": [
    "import io\n",
    "import sys\n",
    "from pyspark.sql import SparkSession\n",
    "from pyspark.sql import functions as F\n",
    "from pyspark.sql.functions import col"
   ]
  },
  {
   "cell_type": "code",
   "execution_count": 3,
   "metadata": {},
   "outputs": [],
   "source": [
    "spark = SparkSession.builder.appName('PySparkJob').getOrCreate()"
   ]
  },
  {
   "cell_type": "code",
   "execution_count": 4,
   "metadata": {
    "scrolled": true
   },
   "outputs": [
    {
     "data": {
      "text/html": [
       "\n",
       "            <div>\n",
       "                <p><b>SparkSession - in-memory</b></p>\n",
       "                \n",
       "        <div>\n",
       "            <p><b>SparkContext</b></p>\n",
       "\n",
       "            <p><a href=\"http://Tech:4043\">Spark UI</a></p>\n",
       "\n",
       "            <dl>\n",
       "              <dt>Version</dt>\n",
       "                <dd><code>v2.4.4</code></dd>\n",
       "              <dt>Master</dt>\n",
       "                <dd><code>local[*]</code></dd>\n",
       "              <dt>AppName</dt>\n",
       "                <dd><code>PySparkJob</code></dd>\n",
       "            </dl>\n",
       "        </div>\n",
       "        \n",
       "            </div>\n",
       "        "
      ],
      "text/plain": [
       "<pyspark.sql.session.SparkSession at 0x23ac8f24630>"
      ]
     },
     "execution_count": 4,
     "metadata": {},
     "output_type": "execute_result"
    }
   ],
   "source": [
    "spark"
   ]
  },
  {
   "cell_type": "code",
   "execution_count": 5,
   "metadata": {},
   "outputs": [],
   "source": [
    "spark.conf.set('spark.sql.session.timeZone', 'GMT+3')"
   ]
  },
  {
   "cell_type": "code",
   "execution_count": 6,
   "metadata": {},
   "outputs": [],
   "source": [
    "df = spark.read.parquet('_data/clickstream.parquet')"
   ]
  },
  {
   "cell_type": "code",
   "execution_count": 7,
   "metadata": {},
   "outputs": [
    {
     "name": "stdout",
     "output_type": "stream",
     "text": [
      "+----------+-------------------+-----+--------+------+---------------+-----------------+------------+-------+---------+---------------------+\n",
      "|      date|               time|event|platform| ad_id|client_union_id|compaign_union_id|ad_cost_type|ad_cost|has_video|target_audience_count|\n",
      "+----------+-------------------+-----+--------+------+---------------+-----------------+------------+-------+---------+---------------------+\n",
      "|2019-04-01|2019-04-01 00:00:48| view| android| 45061|          34734|            45061|         CPM|  200.6|        0|              1955269|\n",
      "|2019-04-01|2019-04-01 00:00:48| view|     web|121288|         121288|           121288|         CPM|  187.4|        0|               232011|\n",
      "+----------+-------------------+-----+--------+------+---------------+-----------------+------------+-------+---------+---------------------+\n",
      "only showing top 2 rows\n",
      "\n"
     ]
    }
   ],
   "source": [
    "df.show(2)"
   ]
  },
  {
   "cell_type": "code",
   "execution_count": 8,
   "metadata": {},
   "outputs": [
    {
     "data": {
      "text/plain": [
       "['date',\n",
       " 'time',\n",
       " 'event',\n",
       " 'platform',\n",
       " 'ad_id',\n",
       " 'client_union_id',\n",
       " 'compaign_union_id',\n",
       " 'ad_cost_type',\n",
       " 'ad_cost',\n",
       " 'has_video',\n",
       " 'target_audience_count']"
      ]
     },
     "execution_count": 8,
     "metadata": {},
     "output_type": "execute_result"
    }
   ],
   "source": [
    "df.columns"
   ]
  },
  {
   "cell_type": "code",
   "execution_count": 9,
   "metadata": {},
   "outputs": [
    {
     "data": {
      "text/plain": [
       "1000000"
      ]
     },
     "execution_count": 9,
     "metadata": {},
     "output_type": "execute_result"
    }
   ],
   "source": [
    "df.count()"
   ]
  },
  {
   "cell_type": "code",
   "execution_count": 10,
   "metadata": {},
   "outputs": [
    {
     "data": {
      "text/plain": [
       "965"
      ]
     },
     "execution_count": 10,
     "metadata": {},
     "output_type": "execute_result"
    }
   ],
   "source": [
    "ad_cnt = df[['ad_id']].distinct().count()\n",
    "ad_cnt"
   ]
  },
  {
   "cell_type": "code",
   "execution_count": 11,
   "metadata": {},
   "outputs": [],
   "source": [
    "def get_features(df):\n",
    "    ndf = df.withColumn('is_cpm', F.when(col('ad_cost_type') =='CPM', 1).otherwise(0)) \\\n",
    "            .withColumn('is_cpc', F.when(col('ad_cost_type') =='CPC', 1).otherwise(0)) \\\n",
    "            .withColumn('is_view', F.when(col('event') =='view', 1).otherwise(0)) \\\n",
    "            .withColumn('is_click', F.when(col('event') =='click', 1).otherwise(0))\n",
    "    \n",
    "    result_df = ndf.groupBy('ad_id') \\\n",
    "        .agg(F.max(col('target_audience_count')), \n",
    "             F.max(col('has_video')), \n",
    "             F.max(col('is_cpm')), \n",
    "             F.max(col('is_cpc')),\n",
    "             F.max(col('ad_cost')),\n",
    "             F.sum(col('is_view')),\n",
    "             F.sum(col('is_click')),\n",
    "             F.countDistinct(col('date')).astype('int'))\\\n",
    "        .withColumnRenamed('max(target_audience_count)', 'target_audience_count') \\\n",
    "        .withColumnRenamed('max(has_video)', 'has_video') \\\n",
    "        .withColumnRenamed('max(is_cpm)', 'is_cpm') \\\n",
    "        .withColumnRenamed('max(is_cpc)', 'is_cpc') \\\n",
    "        .withColumnRenamed('max(ad_cost)', 'ad_cost') \\\n",
    "        .withColumnRenamed('sum(is_view)', 'views_cnt') \\\n",
    "        .withColumnRenamed('sum(is_click)', 'cliks_cnt') \\\n",
    "        .withColumnRenamed('CAST(count(DISTINCT date) AS INT)', 'day_count') \\\n",
    "        .withColumn('CTR', col('cliks_cnt') / col('views_cnt')) \\\n",
    "        .drop(col('views_cnt')) \\\n",
    "        .drop(col('cliks_cnt')) \\\n",
    "        .sort('ad_id', ascending=True)\n",
    "        \n",
    "    \n",
    "    return result_df"
   ]
  },
  {
   "cell_type": "code",
   "execution_count": 12,
   "metadata": {},
   "outputs": [
    {
     "name": "stdout",
     "output_type": "stream",
     "text": [
      "+-----+---------------------+---------+------+------+-------+---------+--------------------+\n",
      "|ad_id|target_audience_count|has_video|is_cpm|is_cpc|ad_cost|day_count|                 CTR|\n",
      "+-----+---------------------+---------+------+------+-------+---------+--------------------+\n",
      "|    2|                14841|        0|     1|     0|  186.4|        2|0.009900990099009901|\n",
      "|    3|                45035|        0|     0|     1|   46.7|        2|0.016304347826086956|\n",
      "| 1902|                 1970|        0|     0|     1|   42.5|        2|0.024390243902439025|\n",
      "| 2064|              4145879|        0|     1|     0|  203.4|        2|                 0.0|\n",
      "| 2132|               672432|        0|     0|     1|   47.5|        3|0.017241379310344827|\n",
      "+-----+---------------------+---------+------+------+-------+---------+--------------------+\n",
      "only showing top 5 rows\n",
      "\n"
     ]
    }
   ],
   "source": [
    "result_df = get_features(df)\n",
    "result_df.show(5)"
   ]
  },
  {
   "cell_type": "code",
   "execution_count": 13,
   "metadata": {},
   "outputs": [
    {
     "data": {
      "text/plain": [
       "[('ad_id', 'int'),\n",
       " ('target_audience_count', 'decimal(10,0)'),\n",
       " ('has_video', 'int'),\n",
       " ('is_cpm', 'int'),\n",
       " ('is_cpc', 'int'),\n",
       " ('ad_cost', 'double'),\n",
       " ('day_count', 'int'),\n",
       " ('CTR', 'double')]"
      ]
     },
     "execution_count": 13,
     "metadata": {},
     "output_type": "execute_result"
    }
   ],
   "source": [
    "result_df.dtypes"
   ]
  },
  {
   "cell_type": "code",
   "execution_count": 14,
   "metadata": {},
   "outputs": [
    {
     "data": {
      "text/plain": [
       "965"
      ]
     },
     "execution_count": 14,
     "metadata": {},
     "output_type": "execute_result"
    }
   ],
   "source": [
    "result_cnt = result_df.count()\n",
    "result_cnt"
   ]
  },
  {
   "cell_type": "code",
   "execution_count": 15,
   "metadata": {},
   "outputs": [
    {
     "data": {
      "text/plain": [
       "True"
      ]
     },
     "execution_count": 15,
     "metadata": {},
     "output_type": "execute_result"
    }
   ],
   "source": [
    "result_cnt == ad_cnt"
   ]
  },
  {
   "cell_type": "code",
   "execution_count": 16,
   "metadata": {},
   "outputs": [],
   "source": [
    "train, test, validate = result_df.randomSplit([0.5, 0.25, 0.25])"
   ]
  },
  {
   "cell_type": "code",
   "execution_count": 17,
   "metadata": {},
   "outputs": [
    {
     "data": {
      "text/plain": [
       "(469, 240, 256)"
      ]
     },
     "execution_count": 17,
     "metadata": {},
     "output_type": "execute_result"
    }
   ],
   "source": [
    "train_cnt = train.count()\n",
    "test_cnt = test.count()\n",
    "validate_cnt = validate.count()\n",
    "\n",
    "train_cnt, test_cnt, validate_cnt"
   ]
  },
  {
   "cell_type": "code",
   "execution_count": 18,
   "metadata": {},
   "outputs": [
    {
     "data": {
      "text/plain": [
       "True"
      ]
     },
     "execution_count": 18,
     "metadata": {},
     "output_type": "execute_result"
    }
   ],
   "source": [
    "train_cnt + test_cnt + validate_cnt == result_cnt"
   ]
  },
  {
   "cell_type": "code",
   "execution_count": null,
   "metadata": {},
   "outputs": [],
   "source": []
  }
 ],
 "metadata": {
  "kernelspec": {
   "display_name": "Python 3",
   "language": "python",
   "name": "python3"
  },
  "language_info": {
   "codemirror_mode": {
    "name": "ipython",
    "version": 3
   },
   "file_extension": ".py",
   "mimetype": "text/x-python",
   "name": "python",
   "nbconvert_exporter": "python",
   "pygments_lexer": "ipython3",
   "version": "3.7.3"
  }
 },
 "nbformat": 4,
 "nbformat_minor": 2
}
